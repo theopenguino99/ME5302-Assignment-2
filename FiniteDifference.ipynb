{
 "cells": [
  {
   "cell_type": "markdown",
   "id": "06d12f7f",
   "metadata": {},
   "source": [
    "# 🧮 Non-Dimensional Incompressible Navier-Stokes Equations (2D, Scalar Form)\n",
    "\n",
    "#### 🔹 Continuity Equation:\n",
    "$$\n",
    "\\frac{\\partial u}{\\partial x} + \\frac{\\partial v}{\\partial y} = 0\n",
    "$$\n",
    "#### 🔹 x-Momentum Equation:\n",
    "$$\n",
    "\\frac{\\partial u}{\\partial t} + u \\frac{\\partial u}{\\partial x} + v \\frac{\\partial u}{\\partial y} = -\\frac{\\partial p}{\\partial x} + Pr \\left( \\frac{\\partial^2 u}{\\partial x^2} + \\frac{\\partial^2 u}{\\partial y^2} \\right)\n",
    "$$\n",
    "#### 🔹 y-Momentum Equation:\n",
    "$$\n",
    "\\frac{\\partial v}{\\partial t} + u \\frac{\\partial v}{\\partial x} + v \\frac{\\partial v}{\\partial y} = -\\frac{\\partial p}{\\partial y} + Pr \\left( \\frac{\\partial^2 v}{\\partial x^2} + \\frac{\\partial^2 v}{\\partial y^2} \\right) + Pr*Ra*T\n",
    "$$\n",
    "#### 🔹 Non-Dimensional Heat Equation (with Advection)\n",
    "$$\n",
    "\\frac{\\partial T}{\\partial t} + u \\frac{\\partial T}{\\partial x} + v \\frac{\\partial T}{\\partial y} =  \\frac{\\partial^2 T}{\\partial x^2} + \\frac{\\partial^2 T}{\\partial y^2} \n",
    "$$\n",
    "\n",
    "# 🔁 Vorticity–Streamfunction Form (2D, Non-Dimensional)\n",
    "\n",
    "#### 1. Vorticity Definition:\n",
    "$$\n",
    "\\omega = -\\frac{\\partial v}{\\partial x} + \\frac{\\partial u}{\\partial y}\n",
    "$$\n",
    "\n",
    "$$\n",
    "\\omega = \\nabla^2 \\psi = \\left( \\frac{\\partial^2 \\psi}{\\partial x^2} + \\frac{\\partial^2 \\psi}{\\partial y^2} \\right)\n",
    "$$\n",
    "\n",
    "#### 2. Vorticity Transport Equation (from momentum equations):\n",
    "$$\n",
    "\\frac{\\partial \\omega}{\\partial t} + u \\frac{\\partial \\omega}{\\partial x} + v \\frac{\\partial \\omega}{\\partial y} = Pr \\left( \\frac{\\partial^2 \\omega}{\\partial x^2} + \\frac{\\partial^2 \\omega}{\\partial y^2} \\right) + Pr \\cdot Ra \\cdot \\frac{\\partial T}{\\partial x}\n",
    "$$\n",
    "\n",
    "#### 3. Streamfunction–Vorticity Relation (Poisson Equation):\n",
    "$$\n",
    "\\nabla^2 \\psi = \\omega\n",
    "$$\n",
    "\n",
    "#### 4. Scalar Heat Equation:\n",
    "$$\n",
    "\\frac{\\partial T}{\\partial t} + u \\frac{\\partial T}{\\partial x} + v \\frac{\\partial T}{\\partial y} = \\frac{\\partial^2 T}{\\partial x^2} + \\frac{\\partial^2 T}{\\partial y^2}\n",
    "$$"
   ]
  },
  {
   "cell_type": "code",
   "execution_count": 11,
   "id": "6610f07c",
   "metadata": {},
   "outputs": [],
   "source": [
    "# Importing dependencies\n",
    "import numpy as np\n",
    "# Defining parameters\n",
    "N = 61 # 121 # Number of points along x axis\n",
    "dx = 1.0 / (N - 1) # Grid spacing in x direction\n",
    "M = 61 # 121 # Number of points along y axis\n",
    "dy = 1.0 / (M - 1) # Grid spacing in y direction\n",
    "Ra = 3.5e3 # 2.5e4 # Rayleigh number\n",
    "Pr = 0.7 # Prandtl number\n",
    "h = 0.01 # Time step\n",
    "\n",
    "# Initialisation at t=0 with boundary conditions\n",
    "u = np.zeros((N, M)) # x-velocity\n",
    "v = np.zeros((N, M)) # y-velocity\n",
    "T = np.zeros((N, M)) # Temperature\n",
    "for i in range(N):\n",
    "    T[i, 0] = 0.5 * np.cos(np.pi * i / (N-1))+1 # Bottom boundary condition of T = 0.5cos(pi*x)+1\n"
   ]
  },
  {
   "cell_type": "markdown",
   "id": "bf958e08",
   "metadata": {},
   "source": [
    "# ✨ Creating Vorticity Residual Function\n",
    "$$\n",
    "R =  Pr \\left( \\frac{\\partial^2 \\omega}{\\partial x^2} + \\frac{\\partial^2 \\omega}{\\partial y^2} \\right) + Pr \\cdot Ra \\cdot \\frac{\\partial T}{\\partial x} - u \\frac{\\partial \\omega}{\\partial x} + v \\frac{\\partial \\omega}{\\partial y}\n",
    "$$"
   ]
  },
  {
   "cell_type": "markdown",
   "id": "adc73745",
   "metadata": {},
   "source": [
    "\n",
    "$$\n",
    "R_{ij} = Pr\\left(\\frac{\\omega_{i-1,j}-2\\omega_{i,j}+\\omega_{i+1,j}}{\\Delta x^2}+\\frac{\\omega_{i,j-1}-2\\omega_{i,j}+\\omega_{i,j+1}}{\\Delta y^2}\\right) + Pr \\cdot Ra \\cdot \\frac{T_{i+1,j} - T_{i-1,j}}{2\\Delta x} - u_{i,j} \\cdot \\frac{\\omega_{i+1,j} - \\omega_{i-1,j}}{2\\Delta x} + v_{i,j} \\cdot \\frac{\\omega_{i,j+1} - \\omega_{i,j-1}}{2\\Delta y}\n",
    "$$\n"
   ]
  },
  {
   "cell_type": "code",
   "execution_count": 12,
   "id": "5f50ad5a",
   "metadata": {},
   "outputs": [],
   "source": [
    "def resvor(vor, u, v, dx, dy, Re):\n",
    "    rvor = np.zeros_like(vor)\n",
    "    for i in range(1, N - 1):\n",
    "        for j in range(1, M - 1):\n",
    "            dvorx2 = (vor[i+1, j] - 2*vor[i, j] + vor[i-1, j]) / dx**2\n",
    "            dvory2 = (vor[i, j+1] - 2*vor[i, j] + vor[i, j-1]) / dy**2\n",
    "            dvorx1 = u[i, j] * (vor[i+1, j] - vor[i-1, j]) / (2*dx)\n",
    "            dvory1 = v[i, j] * (vor[i, j+1] - vor[i, j-1]) / (2*dy)\n",
    "\n",
    "            rvor[i, j] = (dvorx2 + dvory2) / Re - dvorx1 - dvory1\n",
    "    return rvor\n"
   ]
  },
  {
   "cell_type": "markdown",
   "id": "55b2c592",
   "metadata": {},
   "source": [
    "# ✨ Explicit Euler or Runge-Kutta 4 \n",
    "\n",
    "## 🔹 Explicit Euler Scheme:\n",
    "$$\n",
    "\\omega^{n+1}_{i,j} = \\omega^n_{i,j} + \\Delta t \\cdot R^{n}_{i,j}\n",
    "$$\n",
    "\n",
    "## 🔹 Explicit Runge-Kutta 4 (RK4) Scheme:\n",
    "1. Compute intermediate stages:\n",
    "    $$\n",
    "    k_1 = R(\\omega^n)\n",
    "    $$\n",
    "    $$\n",
    "    k_2 = R\\left(\\omega^n + \\frac{\\Delta t}{2} \\cdot k_1\\right)\n",
    "    $$\n",
    "    $$\n",
    "    k_3 = R\\left(\\omega^n + \\frac{\\Delta t}{2} \\cdot k_2\\right)\n",
    "    $$\n",
    "    $$\n",
    "    k_4 = R\\left(\\omega^n + \\Delta t \\cdot k_3\\right)\n",
    "    $$\n",
    "\n",
    "2. Update:\n",
    "    $$\n",
    "    \\omega^{n+1} = \\omega^n + \\frac{\\Delta t}{6} \\cdot (k_1 + 2k_2 + 2k_3 + k_4)\n",
    "    $$"
   ]
  },
  {
   "cell_type": "code",
   "execution_count": 13,
   "id": "dd34f135",
   "metadata": {},
   "outputs": [],
   "source": [
    "def solvor(N, M, dx, dy, Re, h, vor, u, v, method=\"rk4\"):\n",
    "    if method == \"euler\":\n",
    "        rvor = resvor(N, M, vor, u, v, dx, dy, Re)\n",
    "        vor[1:N-1, 1:M-1] += h * rvor[1:N-1, 1:M-1]\n",
    "    \n",
    "    elif method == \"rk4\":\n",
    "        vori = np.copy(vor)\n",
    "\n",
    "        # 1st stage\n",
    "        rvor = resvor(N, M, vor, u, v, dx, dy, Re)\n",
    "        vori[1:N-1, 1:M-1] = vor[1:N-1, 1:M-1] + 0.25 * h * rvor[1:N-1, 1:M-1]\n",
    "\n",
    "        # 2nd stage\n",
    "        rvor = resvor(N, M, vori, u, v, dx, dy, Re)\n",
    "        vori[1:N-1, 1:M-1] = vor[1:N-1, 1:M-1] + (h / 3.0) * rvor[1:N-1, 1:M-1]\n",
    "\n",
    "        # 3rd stage\n",
    "        rvor = resvor(N, M, vori, u, v, dx, dy, Re)\n",
    "        vori[1:N-1, 1:M-1] = vor[1:N-1, 1:M-1] + 0.5 * h * rvor[1:N-1, 1:M-1]\n",
    "\n",
    "        # 4th stage\n",
    "        rvor = resvor(N, M, vori, u, v, dx, dy, Re)\n",
    "        vor[1:N-1, 1:M-1] += h * rvor[1:N-1, 1:M-1]\n"
   ]
  }
 ],
 "metadata": {
  "kernelspec": {
   "display_name": "Python 3",
   "language": "python",
   "name": "python3"
  },
  "language_info": {
   "codemirror_mode": {
    "name": "ipython",
    "version": 3
   },
   "file_extension": ".py",
   "mimetype": "text/x-python",
   "name": "python",
   "nbconvert_exporter": "python",
   "pygments_lexer": "ipython3",
   "version": "3.11.0"
  }
 },
 "nbformat": 4,
 "nbformat_minor": 5
}
